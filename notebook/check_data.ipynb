{
 "cells": [
  {
   "cell_type": "code",
   "execution_count": 2,
   "metadata": {},
   "outputs": [
    {
     "name": "stdout",
     "output_type": "stream",
     "text": [
      "缺失的图片有 37 张：\n",
      "A*37jQSJaGNrUAAAAAAAAAAAAAAQAAAQ.jpg\n",
      "A*YYMYRqEux-gAAAAAAAAAAAAAAQAAAQ.jpg\n",
      "A*Q_G0RZYt7BMAAAAAAAAAAAAAAQAAAQ.jpg\n",
      "A*gYV4Q7NGxWIAAAAAAAAAAAAAAQAAAQ.jpg\n",
      "A*xWwlQZAC-mgAAAAAAAAAAAAAAQAAAQ.jpg\n",
      "A*gpeNTIxe-f0AAAAAAAAAAAAAAQAAAQ.jpg\n",
      "A*eJDQTp5r_KkAAAAAAAAAAAAAAQAAAQ.jpg\n",
      "A*JbvfTqPlklcAAAAAAAAAAAAAAQAAAQ.jpg\n",
      "A*1qbxRKDOhPEAAAAAAAAAAAAAAQAAAQ.jpg\n",
      "A*m4qJTqoGaRgAAAAAAAAAAAAAAQAAAQ.jpg\n",
      "A*xOuDQbutY1QAAAAAAAAAAAAAAQAAAQ.jpg\n",
      "A*UqvIS7qUzpcAAAAAAAAAAAAAAQAAAQ.jpg\n",
      "A*PECzQ70hyGAAAAAAAAAAAAAAAQAAAQ.jpg\n",
      "A*iYxQRYzgavAAAAAAAAAAAAAAAQAAAQ.jpg\n",
      "A*7yPxSrxlIo8AAAAAAAAAAAAAAQAAAQ.jpg\n",
      "A*aAh4RLDlJJkAAAAAAAAAAAAAAQAAAQ.jpg\n",
      "A*OeVAT7EkfVFgUcFJvypTlAAAAQAAAQ.jpg\n",
      "A*4MgARJ6dkucAAAAAAAAAAAAAAQAAAQ.jpg\n",
      "A*f1rPT58SpIQAAAAAAAAAAAAAAQAAAQ.jpg\n",
      "A*bqM9R5i-RVMAAAAAAAAAAAAAAQAAAQ.jpg\n",
      "A*f3e-Sq2Uv70AAAAAAAAAAAAAAQAAAQ.jpg\n",
      "A*WzCvTon_pyoAAAAAAAAAAAAAAQAAAQ.jpg\n",
      "A*XsRXS4Nbx20AAAAAAAAAAAAAAQAAAQ.jpg\n",
      "A*SBIsSZm7m20AAAAAAAAAAAAAAQAAAQ.jpg\n",
      "A*_3kMS5GiTYUAAAAAAAAAAAAAAQAAAQ.jpg\n",
      "A*X8A8QanPOIMAAAAAAAAAAAAAAQAAAQ.jpg\n",
      "A*5zybSIXjNO8AAAAAAAAAAAAAAQAAAQ.jpg\n",
      "A*0QR0RLVIGTUAAAAAAAAAAAAAAQAAAQ.jpg\n",
      "A*vyKqQL965HIAAAAAAAAAAAAAAQAAAQ.jpg\n",
      "A*gR8ZSLNBt4oAAAAAAAAAAAAAAQAAAQ.jpg\n",
      "A*_YTuRbEu9QMAAAAAAAAAAAAAAQAAAQ.jpg\n",
      "A*JG9EQpw4Hl8AAAAAAAAAAAAAAQAAAQ.jpg\n",
      "A*_fOCSYco-qYAAAAAAAAAAAAAAQAAAQ.jpg\n",
      "A*Vub3TaJrCDEAAAAAAAAAAAAAAQAAAQ.jpg\n",
      "A*Bbt4S5U9FrwAAAAAAAAAAAAAAQAAAQ.jpg\n",
      "A*Tb1xQrXrqs0AAAAAAAAAAAAAAQAAAQ.jpg\n",
      "xJHcJEzuRtqK1wQBa5dBQQAAACMAARAD.jpg\n"
     ]
    }
   ],
   "source": [
    "import os\n",
    "image_dir = '../data/testset'\n",
    "test_file = '../data/annotations/test.txt'\n",
    "predictions_file = '../data/annotations/pred_result.txt'\n",
    "\n",
    "def check_missing_images(image_dir, predictions_file):\n",
    "    image_files = set(os.listdir(image_dir))\n",
    "\n",
    "    with open(predictions_file, 'r') as f:\n",
    "        lines = f.readlines()\n",
    "\n",
    "    predicted_images = set(line.split()[0] for line in lines)\n",
    "\n",
    "    missing_images = image_files - predicted_images\n",
    "\n",
    "    if missing_images:\n",
    "        print(f\"缺失的图片有 {len(missing_images)} 张：\")\n",
    "        for image in missing_images:\n",
    "            print(image)\n",
    "    else:\n",
    "        print(\"没有缺失图片，所有预测结果都能找到对应图片。\")\n",
    "\n",
    "check_missing_images(image_dir, predictions_file)"
   ]
  }
 ],
 "metadata": {
  "kernelspec": {
   "display_name": "pet",
   "language": "python",
   "name": "python3"
  },
  "language_info": {
   "codemirror_mode": {
    "name": "ipython",
    "version": 3
   },
   "file_extension": ".py",
   "mimetype": "text/x-python",
   "name": "python",
   "nbconvert_exporter": "python",
   "pygments_lexer": "ipython3",
   "version": "3.12.8"
  }
 },
 "nbformat": 4,
 "nbformat_minor": 2
}
