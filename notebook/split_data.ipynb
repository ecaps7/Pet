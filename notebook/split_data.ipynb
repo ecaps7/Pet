{
 "cells": [
  {
   "cell_type": "code",
   "id": "initial_id",
   "metadata": {
    "collapsed": true,
    "ExecuteTime": {
     "end_time": "2025-02-06T09:03:12.358535Z",
     "start_time": "2025-02-06T09:03:09.932551Z"
    }
   },
   "source": [
    "from src.split_dataset import split_dataset\n",
    "\n",
    "train_dir = '../data/trainset'\n",
    "label_file = '../data/annotations/label.txt'\n",
    "val_dir = '../data/valset'\n",
    "split_dataset(train_dir, label_file, val_dir, val_size=0.2)"
   ],
   "outputs": [
    {
     "name": "stdout",
     "output_type": "stream",
     "text": [
      "Dataset split completed. 4000 images moved to validation folder.\n"
     ]
    }
   ],
   "execution_count": 1
  }
 ],
 "metadata": {
  "kernelspec": {
   "display_name": "Python 3",
   "language": "python",
   "name": "python3"
  },
  "language_info": {
   "codemirror_mode": {
    "name": "ipython",
    "version": 2
   },
   "file_extension": ".py",
   "mimetype": "text/x-python",
   "name": "python",
   "nbconvert_exporter": "python",
   "pygments_lexer": "ipython2",
   "version": "2.7.6"
  }
 },
 "nbformat": 4,
 "nbformat_minor": 5
}
