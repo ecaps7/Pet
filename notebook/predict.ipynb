{
 "cells": [
  {
   "cell_type": "code",
   "execution_count": null,
   "metadata": {},
   "outputs": [
    {
     "ename": "",
     "evalue": "",
     "output_type": "error",
     "traceback": [
      "\u001b[1;31m运行具有“Pet (Python 3.12.8)”的单元格需要ipykernel包。\n",
      "\u001b[1;31m运行以下命令，将 \"ipykernel\" 安装到 Python 环境中。\n",
      "\u001b[1;31m命令: \"conda install -n Pet ipykernel --update-deps --force-reinstall\""
     ]
    }
   ],
   "source": [
    "import os\n",
    "import torch\n",
    "from torch.utils.data import DataLoader\n",
    "from src.dataset import PetAgeDataset, get_transforms\n",
    "from model import create_model\n",
    "import numpy as np\n",
    "from sklearn.metrics import mean_absolute_error\n",
    "\n",
    "def predict_on_new_test_set(model_path, test_dir, test_label_file):\n",
    "    # 步骤1：加载模型\n",
    "    model = create_model()\n",
    "    device = torch.device(\"cuda\" if torch.cuda.is_available() else \"cpu\")\n",
    "    model.load_state_dict(torch.load(model_path, map_location=device))\n",
    "    model.to(device)\n",
    "    model.eval()\n",
    "\n",
    "    # 步骤2：准备新的测试数据集和数据加载器\n",
    "    _, val_transform = get_transforms()\n",
    "    test_dataset = PetAgeDataset(test_dir, test_label_file, transform=val_transform)\n",
    "    test_loader = DataLoader(test_dataset, batch_size=32, shuffle=False)\n",
    "\n",
    "    # 步骤3：进行预测\n",
    "    true_ages = []\n",
    "    predicted_ages = []\n",
    "    image_names = []\n",
    "\n",
    "    with torch.no_grad():\n",
    "        for images, ages in test_loader:\n",
    "            images, ages = images.to(device), ages.to(device)\n",
    "            outputs = model(images)\n",
    "            true_ages.extend(ages.cpu().numpy())\n",
    "            predicted_ages.extend(outputs.squeeze().cpu().numpy())\n",
    "            batch_image_names = [name for name, _ in test_dataset.labels[test_loader.dataset.current_index:test_loader.dataset.current_index + len(ages)]]\n",
    "            image_names.extend(batch_image_names)\n",
    "            test_loader.dataset.current_index += len(ages)\n",
    "\n",
    "    mae = mean_absolute_error(true_ages, predicted_ages)\n",
    "    print(f\"Test MAE: {mae:.4f}\")\n",
    "\n",
    "    base_dir = os.path.dirname(os.path.realpath(__file__))\n",
    "    pred_result_file = os.path.join(base_dir, '../data/annotations/new_pred_result.txt')\n",
    "    with open(pred_result_file, 'w') as f:\n",
    "        for name, age in zip(image_names, predicted_ages):\n",
    "            f.write(f\"{name} {int(age)}\\n\")\n",
    "    print(f\"Prediction results saved to {pred_result_file}\")\n",
    "\n",
    "if __name__ == '__main__':\n",
    "    model_path = 'pet_age_model.pth'\n",
    "    test_dir = '../data/testset'  # 新的测试集目录\n",
    "    test_label_file = '../data/annotations/test.txt'  # 新的测试集标签文件\n",
    "    predict_on_new_test_set(model_path, test_dir, test_label_file)"
   ]
  }
 ],
 "metadata": {
  "kernelspec": {
   "display_name": "pet",
   "language": "python",
   "name": "python3"
  },
  "language_info": {
   "codemirror_mode": {
    "name": "ipython",
    "version": 3
   },
   "file_extension": ".py",
   "mimetype": "text/x-python",
   "name": "python",
   "nbconvert_exporter": "python",
   "pygments_lexer": "ipython3",
   "version": "3.12.8"
  }
 },
 "nbformat": 4,
 "nbformat_minor": 2
}
